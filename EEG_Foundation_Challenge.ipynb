{
  "metadata": {
    "kernelspec": {
      "language": "python",
      "display_name": "Python 3",
      "name": "python3"
    },
    "language_info": {
      "name": "python",
      "version": "3.11.13",
      "mimetype": "text/x-python",
      "codemirror_mode": {
        "name": "ipython",
        "version": 3
      },
      "pygments_lexer": "ipython3",
      "nbconvert_exporter": "python",
      "file_extension": ".py"
    },
    "kaggle": {
      "accelerator": "none",
      "dataSources": [],
      "dockerImageVersionId": 31089,
      "isInternetEnabled": false,
      "language": "python",
      "sourceType": "notebook",
      "isGpuEnabled": false
    },
    "colab": {
      "name": "EEG Foundation Challenge",
      "provenance": [],
      "include_colab_link": true
    }
  },
  "nbformat_minor": 0,
  "nbformat": 4,
  "cells": [
    {
      "cell_type": "markdown",
      "metadata": {
        "id": "view-in-github",
        "colab_type": "text"
      },
      "source": [
        "<a href=\"https://colab.research.google.com/github/aminanss/EEG-Foundation-Challenge/blob/main/EEG_Foundation_Challenge.ipynb\" target=\"_parent\"><img src=\"https://colab.research.google.com/assets/colab-badge.svg\" alt=\"Open In Colab\"/></a>"
      ]
    },
    {
      "cell_type": "code",
      "source": [
        "!pip install --quiet s3fs mne pandas\n",
        "\n",
        "import os\n",
        "import s3fs\n",
        "import pandas as pd\n",
        "import json"
      ],
      "metadata": {
        "trusted": true,
        "execution": {
          "iopub.status.busy": "2025-07-26T10:00:53.532341Z",
          "iopub.execute_input": "2025-07-26T10:00:53.53265Z",
          "iopub.status.idle": "2025-07-26T10:01:00.388212Z",
          "shell.execute_reply.started": "2025-07-26T10:00:53.532621Z",
          "shell.execute_reply": "2025-07-26T10:01:00.386882Z"
        },
        "id": "amIU0jxONrbK"
      },
      "outputs": [],
      "execution_count": null
    },
    {
      "cell_type": "code",
      "source": [
        "# 0) (Make sure you have turned Internet: ON in the Notebook Settings)\n",
        "\n",
        "# 1) Install required libraries quietly\n",
        "!pip install --quiet s3fs mne pandas matplotlib\n",
        "\n",
        "import os\n",
        "import s3fs\n",
        "import pandas as pd\n",
        "import json\n",
        "import mne\n",
        "import matplotlib.pyplot as plt\n",
        "\n",
        "# 2) Initialize an anonymous S3 filesystem\n",
        "fs = s3fs.S3FileSystem(anon=True)\n",
        "\n",
        "# 3) Define the S3 prefix path for the dataset\n",
        "s3_prefix = 'fcp-indi/data/Projects/HBN/BIDS_EEG/cmi_bids_R1'\n",
        "\n",
        "# 4) List top‐level folders under the prefix\n",
        "print(\"Top‐level entries under\", s3_prefix)\n",
        "for entry in fs.ls(s3_prefix, detail=False):\n",
        "    print(\"  \", entry)\n",
        "\n",
        "# 5) Read participants.tsv directly from S3 into a DataFrame\n",
        "participants_path = os.path.join(s3_prefix, 'participants.tsv')\n",
        "with fs.open(participants_path, 'rb') as f:\n",
        "    participants = pd.read_csv(f, sep='\\t')\n",
        "print(\"\\n---- participants.tsv (first rows) ----\")\n",
        "print(participants.head())\n",
        "\n",
        "# 6) Read dataset_description.json directly from S3\n",
        "dataset_desc_path = os.path.join(s3_prefix, 'dataset_description.json')\n",
        "with fs.open(dataset_desc_path, 'rb') as f:\n",
        "    dataset_description = json.load(f)\n",
        "print(\"\\n---- dataset_description.json ----\")\n",
        "print(json.dumps(dataset_description, indent=2))\n",
        "\n",
        "# 7) Find a subject folder (e.g., 'sub-XXXX') under the prefix\n",
        "subject_dirs = [p for p in fs.ls(s3_prefix, detail=False)\n",
        "                if p.endswith('/') and 'sub-' in p]\n",
        "if not subject_dirs:\n",
        "    raise RuntimeError(\"No subject folders found under the S3 prefix.\")\n",
        "subject_folder = subject_dirs[0].rstrip('/')\n",
        "print(f\"\\nSelected subject folder: {subject_folder}\")\n",
        "\n",
        "# 8) List EEG files inside the subject’s 'eeg' subfolder\n",
        "eeg_dir = f\"{subject_folder}/eeg\"\n",
        "print(\"\\nEEG files available under that subject:\")\n",
        "for fname in fs.ls(eeg_dir, detail=False):\n",
        "    print(\"  \", fname)\n",
        "\n",
        "# 9) Download the BrainVision files (.vhdr, .eeg, .vmrk) locally\n",
        "local_eeg_dir = '/kaggle/working/eeg_sample'\n",
        "os.makedirs(local_eeg_dir, exist_ok=True)\n",
        "\n",
        "bv_files = [f for f in fs.ls(eeg_dir, detail=False)\n",
        "            if f.endswith(('.vhdr', '.eeg', '.vmrk'))]\n",
        "print(f\"\\nDownloading {len(bv_files)} BrainVision files to {local_eeg_dir}\")\n",
        "for remote_file in bv_files:\n",
        "    local_file = os.path.join(local_eeg_dir, os.path.basename(remote_file))\n",
        "    fs.get(remote_file"
      ],
      "metadata": {
        "_uuid": "8f2839f25d086af736a60e9eeb907d3b93b6e0e5",
        "_cell_guid": "b1076dfc-b9ad-4769-8c92-a6c4dae69d19",
        "trusted": true,
        "id": "34xxtVyGNrbM"
      },
      "outputs": [],
      "execution_count": null
    }
  ]
}